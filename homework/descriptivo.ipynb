{
 "cells": [
  {
   "cell_type": "code",
   "execution_count": null,
   "id": "5027a813",
   "metadata": {
    "vscode": {
     "languageId": "plaintext"
    }
   },
   "outputs": [],
   "source": [
    "import pickle\n",
    "\n",
    "import pandas as pd  # type: ignore\n",
    "from sklearn.linear_model import LinearRegression  # type: ignore\n",
    "\n",
    "df = pd.read_csv(\"files/input/house_data.csv\", sep=\",\")\n",
    "\n",
    "features = df[\n",
    "    [\n",
    "        \"bedrooms\",\n",
    "        \"bathrooms\",\n",
    "        \"sqft_living\",\n",
    "        \"sqft_lot\",\n",
    "        \"floors\",\n",
    "        \"waterfront\",\n",
    "        \"condition\",\n",
    "    ]\n",
    "]\n"
   ]
  }
 ],
 "metadata": {
  "language_info": {
   "name": "python"
  }
 },
 "nbformat": 4,
 "nbformat_minor": 5
}
